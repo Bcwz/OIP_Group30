{
 "cells": [
  {
   "cell_type": "code",
   "execution_count": 1,
   "metadata": {},
   "outputs": [
    {
     "name": "stdout",
     "output_type": "stream",
     "text": [
      "Collecting tensorflow==2.5.0\n",
      "  Using cached tensorflow-2.5.0-cp38-cp38-win_amd64.whl (422.6 MB)\n",
      "Collecting six~=1.15.0\n",
      "  Using cached six-1.15.0-py2.py3-none-any.whl (10 kB)\n",
      "Collecting tensorboard~=2.5\n",
      "  Using cached tensorboard-2.6.0-py3-none-any.whl (5.6 MB)\n",
      "Requirement already satisfied: protobuf>=3.9.2 in c:\\users\\bing\\anaconda3\\envs\\tensorflow2\\lib\\site-packages (from tensorflow==2.5.0) (3.17.2)\n",
      "Requirement already satisfied: typing-extensions~=3.7.4 in c:\\users\\bing\\appdata\\roaming\\python\\python38\\site-packages (from tensorflow==2.5.0) (3.7.4.3)\n",
      "Requirement already satisfied: keras-nightly~=2.5.0.dev in c:\\users\\bing\\appdata\\roaming\\python\\python38\\site-packages (from tensorflow==2.5.0) (2.5.0.dev2021032900)\n",
      "Requirement already satisfied: opt-einsum~=3.3.0 in c:\\users\\bing\\appdata\\roaming\\python\\python38\\site-packages (from tensorflow==2.5.0) (3.3.0)\n",
      "Requirement already satisfied: wheel~=0.35 in c:\\users\\bing\\anaconda3\\envs\\tensorflow2\\lib\\site-packages (from tensorflow==2.5.0) (0.37.0)\n",
      "Requirement already satisfied: h5py~=3.1.0 in c:\\users\\bing\\appdata\\roaming\\python\\python38\\site-packages (from tensorflow==2.5.0) (3.1.0)\n",
      "Requirement already satisfied: keras-preprocessing~=1.1.2 in c:\\users\\bing\\appdata\\roaming\\python\\python38\\site-packages (from tensorflow==2.5.0) (1.1.2)\n",
      "Requirement already satisfied: absl-py~=0.10 in c:\\users\\bing\\appdata\\roaming\\python\\python38\\site-packages (from tensorflow==2.5.0) (0.13.0)\n",
      "Requirement already satisfied: gast==0.4.0 in c:\\users\\bing\\appdata\\roaming\\python\\python38\\site-packages (from tensorflow==2.5.0) (0.4.0)\n",
      "Requirement already satisfied: flatbuffers~=1.12.0 in c:\\users\\bing\\appdata\\roaming\\python\\python38\\site-packages (from tensorflow==2.5.0) (1.12)\n",
      "Requirement already satisfied: wrapt~=1.12.1 in c:\\users\\bing\\appdata\\roaming\\python\\python38\\site-packages (from tensorflow==2.5.0) (1.12.1)\n",
      "Requirement already satisfied: google-pasta~=0.2 in c:\\users\\bing\\appdata\\roaming\\python\\python38\\site-packages (from tensorflow==2.5.0) (0.2.0)\n",
      "Requirement already satisfied: astunparse~=1.6.3 in c:\\users\\bing\\appdata\\roaming\\python\\python38\\site-packages (from tensorflow==2.5.0) (1.6.3)\n",
      "Collecting numpy~=1.19.2\n",
      "  Using cached numpy-1.19.5-cp38-cp38-win_amd64.whl (13.3 MB)\n",
      "Requirement already satisfied: termcolor~=1.1.0 in c:\\users\\bing\\appdata\\roaming\\python\\python38\\site-packages (from tensorflow==2.5.0) (1.1.0)\n",
      "Collecting grpcio~=1.34.0\n",
      "  Using cached grpcio-1.34.1-cp38-cp38-win_amd64.whl (2.9 MB)\n",
      "Requirement already satisfied: tensorflow-estimator<2.6.0,>=2.5.0rc0 in c:\\users\\bing\\anaconda3\\envs\\tensorflow2\\lib\\site-packages (from tensorflow==2.5.0) (2.5.0)\n"
     ]
    },
    {
     "name": "stderr",
     "output_type": "stream",
     "text": [
      "ERROR: pip's dependency resolver does not currently take into account all the packages that are installed. This behaviour is the source of the following dependency conflicts.\n",
      "object-detection 0.1 requires apache-beam, which is not installed.\n",
      "object-detection 0.1 requires avro-python3, which is not installed.\n",
      "object-detection 0.1 requires pycocotools, which is not installed.\n",
      "object-detection 0.1 requires tf-slim, which is not installed.\n",
      "tf-models-official 2.6.0 requires gin-config, which is not installed.\n",
      "tf-models-official 2.6.0 requires google-api-python-client>=1.6.7, which is not installed.\n",
      "tf-models-official 2.6.0 requires kaggle>=1.3.9, which is not installed.\n",
      "tf-models-official 2.6.0 requires oauth2client, which is not installed.\n",
      "tf-models-official 2.6.0 requires opencv-python-headless, which is not installed.\n",
      "tf-models-official 2.6.0 requires psutil>=5.4.3, which is not installed.\n",
      "tf-models-official 2.6.0 requires py-cpuinfo>=3.3.0, which is not installed.\n",
      "tf-models-official 2.6.0 requires pycocotools, which is not installed.\n",
      "tf-models-official 2.6.0 requires pyyaml>=5.1, which is not installed.\n",
      "tf-models-official 2.6.0 requires sacrebleu, which is not installed.\n",
      "tf-models-official 2.6.0 requires sentencepiece, which is not installed.\n",
      "tf-models-official 2.6.0 requires seqeval, which is not installed.\n",
      "tf-models-official 2.6.0 requires tensorflow-addons, which is not installed.\n",
      "tf-models-official 2.6.0 requires tensorflow-datasets, which is not installed.\n",
      "tf-models-official 2.6.0 requires tensorflow-hub>=0.6.0, which is not installed.\n",
      "tf-models-official 2.6.0 requires tensorflow-model-optimization>=0.4.1, which is not installed."
     ]
    },
    {
     "name": "stdout",
     "output_type": "stream",
     "text": [
      "Requirement already satisfied: google-auth<2,>=1.6.3 in c:\\users\\bing\\anaconda3\\envs\\tensorflow2\\lib\\site-packages (from tensorboard~=2.5->tensorflow==2.5.0) (1.33.0)\n",
      "Requirement already satisfied: google-auth-oauthlib<0.5,>=0.4.1 in c:\\users\\bing\\appdata\\roaming\\python\\python38\\site-packages (from tensorboard~=2.5->tensorflow==2.5.0) (0.4.4)\n",
      "Collecting tensorboard-data-server<0.7.0,>=0.6.0\n",
      "  Using cached tensorboard_data_server-0.6.1-py3-none-any.whl (2.4 kB)\n",
      "Requirement already satisfied: setuptools>=41.0.0 in c:\\users\\bing\\anaconda3\\envs\\tensorflow2\\lib\\site-packages (from tensorboard~=2.5->tensorflow==2.5.0) (52.0.0.post20210125)\n",
      "Requirement already satisfied: markdown>=2.6.8 in c:\\users\\bing\\appdata\\roaming\\python\\python38\\site-packages (from tensorboard~=2.5->tensorflow==2.5.0) (3.3.4)\n",
      "Requirement already satisfied: requests<3,>=2.21.0 in c:\\users\\bing\\anaconda3\\envs\\tensorflow2\\lib\\site-packages (from tensorboard~=2.5->tensorflow==2.5.0) (2.25.1)\n",
      "Requirement already satisfied: tensorboard-plugin-wit>=1.6.0 in c:\\users\\bing\\anaconda3\\envs\\tensorflow2\\lib\\site-packages (from tensorboard~=2.5->tensorflow==2.5.0) (1.6.0)\n",
      "Requirement already satisfied: werkzeug>=0.11.15 in c:\\users\\bing\\anaconda3\\envs\\tensorflow2\\lib\\site-packages (from tensorboard~=2.5->tensorflow==2.5.0) (1.0.1)\n",
      "Requirement already satisfied: pyasn1-modules>=0.2.1 in c:\\users\\bing\\anaconda3\\envs\\tensorflow2\\lib\\site-packages (from google-auth<2,>=1.6.3->tensorboard~=2.5->tensorflow==2.5.0) (0.2.8)\n",
      "Requirement already satisfied: rsa<5,>=3.1.4 in c:\\users\\bing\\anaconda3\\envs\\tensorflow2\\lib\\site-packages (from google-auth<2,>=1.6.3->tensorboard~=2.5->tensorflow==2.5.0) (4.7.2)\n",
      "Requirement already satisfied: cachetools<5.0,>=2.0.0 in c:\\users\\bing\\anaconda3\\envs\\tensorflow2\\lib\\site-packages (from google-auth<2,>=1.6.3->tensorboard~=2.5->tensorflow==2.5.0) (4.2.2)\n",
      "Requirement already satisfied: requests-oauthlib>=0.7.0 in c:\\users\\bing\\anaconda3\\envs\\tensorflow2\\lib\\site-packages (from google-auth-oauthlib<0.5,>=0.4.1->tensorboard~=2.5->tensorflow==2.5.0) (1.3.0)\n",
      "Requirement already satisfied: pyasn1<0.5.0,>=0.4.6 in c:\\users\\bing\\anaconda3\\envs\\tensorflow2\\lib\\site-packages (from pyasn1-modules>=0.2.1->google-auth<2,>=1.6.3->tensorboard~=2.5->tensorflow==2.5.0) (0.4.8)\n",
      "Requirement already satisfied: certifi>=2017.4.17 in c:\\users\\bing\\anaconda3\\envs\\tensorflow2\\lib\\site-packages (from requests<3,>=2.21.0->tensorboard~=2.5->tensorflow==2.5.0) (2020.6.20)\n",
      "Requirement already satisfied: chardet<5,>=3.0.2 in c:\\users\\bing\\anaconda3\\envs\\tensorflow2\\lib\\site-packages (from requests<3,>=2.21.0->tensorboard~=2.5->tensorflow==2.5.0) (3.0.4)\n",
      "Requirement already satisfied: idna<3,>=2.5 in c:\\users\\bing\\anaconda3\\envs\\tensorflow2\\lib\\site-packages (from requests<3,>=2.21.0->tensorboard~=2.5->tensorflow==2.5.0) (2.10)\n",
      "Requirement already satisfied: urllib3<1.27,>=1.21.1 in c:\\users\\bing\\anaconda3\\envs\\tensorflow2\\lib\\site-packages (from requests<3,>=2.21.0->tensorboard~=2.5->tensorflow==2.5.0) (1.26.6)\n",
      "Requirement already satisfied: oauthlib>=3.0.0 in c:\\users\\bing\\anaconda3\\envs\\tensorflow2\\lib\\site-packages (from requests-oauthlib>=0.7.0->google-auth-oauthlib<0.5,>=0.4.1->tensorboard~=2.5->tensorflow==2.5.0) (3.1.1)\n",
      "Installing collected packages: six, tensorboard-data-server, numpy, grpcio, tensorboard, tensorflow\n",
      "  Attempting uninstall: six\n",
      "    Found existing installation: six 1.16.0\n",
      "    Uninstalling six-1.16.0:\n",
      "      Successfully uninstalled six-1.16.0\n",
      "  Attempting uninstall: numpy\n",
      "    Found existing installation: numpy 1.20.3\n",
      "    Uninstalling numpy-1.20.3:\n",
      "      Successfully uninstalled numpy-1.20.3\n",
      "  Attempting uninstall: grpcio\n",
      "    Found existing installation: grpcio 1.36.1\n",
      "    Uninstalling grpcio-1.36.1:\n",
      "      Successfully uninstalled grpcio-1.36.1\n",
      "  Attempting uninstall: tensorboard\n",
      "    Found existing installation: tensorboard 2.4.0\n",
      "    Uninstalling tensorboard-2.4.0:\n",
      "      Successfully uninstalled tensorboard-2.4.0\n",
      "  Attempting uninstall: tensorflow\n",
      "    Found existing installation: tensorflow 2.3.0\n",
      "    Uninstalling tensorflow-2.3.0:\n",
      "      Successfully uninstalled tensorflow-2.3.0\n",
      "Successfully installed grpcio-1.34.1 numpy-1.19.5 six-1.15.0 tensorboard-2.6.0 tensorboard-data-server-0.6.1 tensorflow-2.5.0\n"
     ]
    },
    {
     "name": "stderr",
     "output_type": "stream",
     "text": [
      "\n",
      "tf-models-official 2.6.0 requires tensorflow-text>=2.5.0, which is not installed.\n",
      "tf-models-official 2.6.0 requires tf-slim>=1.1.0, which is not installed.\n"
     ]
    }
   ],
   "source": [
    "!pip install tensorflow==2.5.0"
   ]
  },
  {
   "cell_type": "code",
   "execution_count": null,
   "metadata": {},
   "outputs": [],
   "source": [
    "!pip install -q tflite-model-maker\n",
    "!pip install -q pycocotools"
   ]
  },
  {
   "cell_type": "code",
   "execution_count": null,
   "metadata": {},
   "outputs": [],
   "source": [
    "import numpy as np\n",
    "import os\n",
    "\n",
    "from tflite_model_maker.config import ExportFormat\n",
    "from tflite_model_maker import model_spec\n",
    "from tflite_model_maker import object_detector\n",
    "\n",
    "import tensorflow as tf\n",
    "assert tf.__version__.startswith('2')\n",
    "\n",
    "tf.get_logger().setLevel('ERROR')\n",
    "from absl import logging\n",
    "logging.set_verbosity(logging.ERROR)"
   ]
  }
 ],
 "metadata": {
  "kernelspec": {
   "display_name": "Python 3",
   "language": "python",
   "name": "python3"
  },
  "language_info": {
   "codemirror_mode": {
    "name": "ipython",
    "version": 3
   },
   "file_extension": ".py",
   "mimetype": "text/x-python",
   "name": "python",
   "nbconvert_exporter": "python",
   "pygments_lexer": "ipython3",
   "version": "3.8.11"
  }
 },
 "nbformat": 4,
 "nbformat_minor": 2
}
