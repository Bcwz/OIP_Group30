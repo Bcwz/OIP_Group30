{
 "cells": [
  {
   "cell_type": "code",
   "execution_count": null,
   "source": [
    "!pip install tensorflow-gpu==2.5.0"
   ],
   "outputs": [
    {
     "output_type": "error",
     "ename": "Error",
     "evalue": "Session cannot generate requests",
     "traceback": [
      "Error: Session cannot generate requests",
      "at w.executeCodeCell (c:\\Users\\BING\\.vscode\\extensions\\ms-toolsai.jupyter-2021.8.1236758218\\out\\client\\extension.js:90:327199)",
      "at w.execute (c:\\Users\\BING\\.vscode\\extensions\\ms-toolsai.jupyter-2021.8.1236758218\\out\\client\\extension.js:90:326520)",
      "at w.start (c:\\Users\\BING\\.vscode\\extensions\\ms-toolsai.jupyter-2021.8.1236758218\\out\\client\\extension.js:90:322336)",
      "at runMicrotasks (<anonymous>)",
      "at processTicksAndRejections (internal/process/task_queues.js:93:5)",
      "at async t.CellExecutionQueue.executeQueuedCells (c:\\Users\\BING\\.vscode\\extensions\\ms-toolsai.jupyter-2021.8.1236758218\\out\\client\\extension.js:90:336863)",
      "at async t.CellExecutionQueue.start (c:\\Users\\BING\\.vscode\\extensions\\ms-toolsai.jupyter-2021.8.1236758218\\out\\client\\extension.js:90:336403)"
     ]
    }
   ],
   "metadata": {}
  },
  {
   "cell_type": "code",
   "execution_count": null,
   "source": [
    "import tensorflow as tf\r\n",
    "tf.__version__"
   ],
   "outputs": [
    {
     "output_type": "execute_result",
     "data": {
      "text/plain": [
       "'2.5.0'"
      ]
     },
     "metadata": {},
     "execution_count": 1
    }
   ],
   "metadata": {}
  },
  {
   "cell_type": "code",
   "execution_count": null,
   "source": [
    "!pip install -q tflite-model-maker\r\n",
    "!pip install -q pycocotools"
   ],
   "outputs": [
    {
     "output_type": "stream",
     "name": "stderr",
     "text": [
      "WARNING: Ignoring invalid distribution -rotobuf (c:\\users\\bing\\anaconda3\\envs\\tensorflow1\\lib\\site-packages)\n",
      "WARNING: Ignoring invalid distribution - (c:\\users\\bing\\anaconda3\\envs\\tensorflow1\\lib\\site-packages)\n",
      "WARNING: Ignoring invalid distribution -ensorflow-gpu (c:\\users\\bing\\anaconda3\\envs\\tensorflow1\\lib\\site-packages)\n",
      "WARNING: Ignoring invalid distribution -rotobuf (c:\\users\\bing\\anaconda3\\envs\\tensorflow1\\lib\\site-packages)\n",
      "WARNING: Ignoring invalid distribution - (c:\\users\\bing\\anaconda3\\envs\\tensorflow1\\lib\\site-packages)\n",
      "WARNING: Ignoring invalid distribution -ensorflow-gpu (c:\\users\\bing\\anaconda3\\envs\\tensorflow1\\lib\\site-packages)\n",
      "WARNING: Ignoring invalid distribution -rotobuf (c:\\users\\bing\\anaconda3\\envs\\tensorflow1\\lib\\site-packages)\n",
      "WARNING: Ignoring invalid distribution - (c:\\users\\bing\\anaconda3\\envs\\tensorflow1\\lib\\site-packages)\n",
      "WARNING: Ignoring invalid distribution -ensorflow-gpu (c:\\users\\bing\\anaconda3\\envs\\tensorflow1\\lib\\site-packages)\n",
      "WARNING: Ignoring invalid distribution -rotobuf (c:\\users\\bing\\anaconda3\\envs\\tensorflow1\\lib\\site-packages)\n",
      "WARNING: Ignoring invalid distribution - (c:\\users\\bing\\anaconda3\\envs\\tensorflow1\\lib\\site-packages)\n",
      "WARNING: Ignoring invalid distribution -ensorflow-gpu (c:\\users\\bing\\anaconda3\\envs\\tensorflow1\\lib\\site-packages)\n",
      "WARNING: Ignoring invalid distribution -rotobuf (c:\\users\\bing\\anaconda3\\envs\\tensorflow1\\lib\\site-packages)\n",
      "WARNING: Ignoring invalid distribution - (c:\\users\\bing\\anaconda3\\envs\\tensorflow1\\lib\\site-packages)\n",
      "WARNING: Ignoring invalid distribution -ensorflow-gpu (c:\\users\\bing\\anaconda3\\envs\\tensorflow1\\lib\\site-packages)\n",
      "WARNING: Ignoring invalid distribution -rotobuf (c:\\users\\bing\\anaconda3\\envs\\tensorflow1\\lib\\site-packages)\n",
      "WARNING: Ignoring invalid distribution - (c:\\users\\bing\\anaconda3\\envs\\tensorflow1\\lib\\site-packages)\n",
      "WARNING: Ignoring invalid distribution -ensorflow-gpu (c:\\users\\bing\\anaconda3\\envs\\tensorflow1\\lib\\site-packages)\n",
      "WARNING: Ignoring invalid distribution -rotobuf (c:\\users\\bing\\anaconda3\\envs\\tensorflow1\\lib\\site-packages)\n",
      "WARNING: Ignoring invalid distribution - (c:\\users\\bing\\anaconda3\\envs\\tensorflow1\\lib\\site-packages)\n",
      "WARNING: Ignoring invalid distribution -ensorflow-gpu (c:\\users\\bing\\anaconda3\\envs\\tensorflow1\\lib\\site-packages)\n",
      "WARNING: Ignoring invalid distribution -rotobuf (c:\\users\\bing\\anaconda3\\envs\\tensorflow1\\lib\\site-packages)\n",
      "WARNING: Ignoring invalid distribution - (c:\\users\\bing\\anaconda3\\envs\\tensorflow1\\lib\\site-packages)\n",
      "WARNING: Ignoring invalid distribution -ensorflow-gpu (c:\\users\\bing\\anaconda3\\envs\\tensorflow1\\lib\\site-packages)\n",
      "WARNING: Ignoring invalid distribution -rotobuf (c:\\users\\bing\\anaconda3\\envs\\tensorflow1\\lib\\site-packages)\n",
      "WARNING: Ignoring invalid distribution - (c:\\users\\bing\\anaconda3\\envs\\tensorflow1\\lib\\site-packages)\n",
      "WARNING: Ignoring invalid distribution -ensorflow-gpu (c:\\users\\bing\\anaconda3\\envs\\tensorflow1\\lib\\site-packages)\n",
      "WARNING: Ignoring invalid distribution -rotobuf (c:\\users\\bing\\anaconda3\\envs\\tensorflow1\\lib\\site-packages)\n",
      "WARNING: Ignoring invalid distribution - (c:\\users\\bing\\anaconda3\\envs\\tensorflow1\\lib\\site-packages)\n",
      "WARNING: Ignoring invalid distribution -ensorflow-gpu (c:\\users\\bing\\anaconda3\\envs\\tensorflow1\\lib\\site-packages)\n"
     ]
    }
   ],
   "metadata": {}
  },
  {
   "cell_type": "code",
   "execution_count": null,
   "source": [
    "import numpy as np\r\n",
    "import os\r\n",
    "\r\n",
    "from tflite_model_maker.config import ExportFormat\r\n",
    "from tflite_model_maker import model_spec\r\n",
    "from tflite_model_maker import object_detector\r\n",
    "\r\n",
    "import tensorflow as tf\r\n",
    "assert tf.__version__.startswith('2')\r\n",
    "\r\n",
    "tf.get_logger().setLevel('ERROR')\r\n",
    "from absl import logging\r\n",
    "logging.set_verbosity(logging.ERROR)"
   ],
   "outputs": [],
   "metadata": {}
  },
  {
   "cell_type": "code",
   "execution_count": null,
   "source": [
    "spec = model_spec.get('efficientdet_lite2')"
   ],
   "outputs": [],
   "metadata": {}
  },
  {
   "cell_type": "code",
   "execution_count": null,
   "source": [
    "train_data = object_detector.DataLoader.from_pascal_voc('images/train', 'images/train', ['unknownObject'])"
   ],
   "outputs": [],
   "metadata": {}
  },
  {
   "cell_type": "code",
   "execution_count": null,
   "source": [
    "validation_data = object_detector.DataLoader.from_pascal_voc('images/test', 'images/test', ['unknownObject'])"
   ],
   "outputs": [],
   "metadata": {}
  },
  {
   "cell_type": "code",
   "execution_count": null,
   "source": [
    "model = object_detector.create(train_data, model_spec=spec, epochs=80, batch_size=4, train_whole_model=True, validation_data=validation_data)"
   ],
   "outputs": [
    {
     "output_type": "error",
     "ename": "Error",
     "evalue": "Session cannot generate requests",
     "traceback": [
      "Error: Session cannot generate requests",
      "at w.executeCodeCell (c:\\Users\\BING\\.vscode\\extensions\\ms-toolsai.jupyter-2021.8.1236758218\\out\\client\\extension.js:90:327199)",
      "at w.execute (c:\\Users\\BING\\.vscode\\extensions\\ms-toolsai.jupyter-2021.8.1236758218\\out\\client\\extension.js:90:326520)",
      "at w.start (c:\\Users\\BING\\.vscode\\extensions\\ms-toolsai.jupyter-2021.8.1236758218\\out\\client\\extension.js:90:322336)",
      "at runMicrotasks (<anonymous>)",
      "at processTicksAndRejections (internal/process/task_queues.js:93:5)",
      "at async t.CellExecutionQueue.executeQueuedCells (c:\\Users\\BING\\.vscode\\extensions\\ms-toolsai.jupyter-2021.8.1236758218\\out\\client\\extension.js:90:336863)",
      "at async t.CellExecutionQueue.start (c:\\Users\\BING\\.vscode\\extensions\\ms-toolsai.jupyter-2021.8.1236758218\\out\\client\\extension.js:90:336403)"
     ]
    }
   ],
   "metadata": {}
  },
  {
   "cell_type": "code",
   "execution_count": null,
   "source": [
    "model.evaluate(validation_data)"
   ],
   "outputs": [],
   "metadata": {}
  },
  {
   "cell_type": "code",
   "execution_count": null,
   "source": [
    "model.export(export_dir='.')"
   ],
   "outputs": [],
   "metadata": {}
  },
  {
   "cell_type": "code",
   "execution_count": null,
   "source": [
    "import cv2\r\n",
    "\r\n",
    "from PIL import Image\r\n",
    "\r\n",
    "model_path = 'model.tflite'\r\n",
    "\r\n",
    "# Load the labels into a list\r\n",
    "classes = ['???'] * model.model_spec.config.num_classes\r\n",
    "label_map = model.model_spec.config.label_map\r\n",
    "for label_id, label_name in label_map.as_dict().items():\r\n",
    "  classes[label_id-1] = label_name\r\n",
    "\r\n",
    "# Define a list of colors for visualization\r\n",
    "COLORS = np.random.randint(0, 255, size=(len(classes), 3), dtype=np.uint8)\r\n",
    "\r\n",
    "def preprocess_image(image_path, input_size):\r\n",
    "  \"\"\"Preprocess the input image to feed to the TFLite model\"\"\"\r\n",
    "  img = tf.io.read_file(image_path)\r\n",
    "  img = tf.io.decode_image(img, channels=3)\r\n",
    "  img = tf.image.convert_image_dtype(img, tf.uint8)\r\n",
    "  original_image = img\r\n",
    "  resized_img = tf.image.resize(img, input_size)\r\n",
    "  resized_img = resized_img[tf.newaxis, :]\r\n",
    "  return resized_img, original_image\r\n",
    "\r\n",
    "\r\n",
    "def set_input_tensor(interpreter, image):\r\n",
    "  \"\"\"Set the input tensor.\"\"\"\r\n",
    "  tensor_index = interpreter.get_input_details()[0]['index']\r\n",
    "  input_tensor = interpreter.tensor(tensor_index)()[0]\r\n",
    "  input_tensor[:, :] = image\r\n",
    "\r\n",
    "\r\n",
    "def get_output_tensor(interpreter, index):\r\n",
    "  \"\"\"Retur the output tensor at the given index.\"\"\"\r\n",
    "  output_details = interpreter.get_output_details()[index]\r\n",
    "  tensor = np.squeeze(interpreter.get_tensor(output_details['index']))\r\n",
    "  return tensor\r\n",
    "\r\n",
    "\r\n",
    "def detect_objects(interpreter, image, threshold):\r\n",
    "  \"\"\"Returns a list of detection results, each a dictionary of object info.\"\"\"\r\n",
    "  # Feed the input image to the model\r\n",
    "  set_input_tensor(interpreter, image)\r\n",
    "  interpreter.invoke()\r\n",
    "\r\n",
    "  # Get all outputs from the model\r\n",
    "  boxes = get_output_tensor(interpreter, 0)\r\n",
    "  classes = get_output_tensor(interpreter, 1)\r\n",
    "  scores = get_output_tensor(interpreter, 2)\r\n",
    "  count = int(get_output_tensor(interpreter, 3))\r\n",
    "\r\n",
    "  results = []\r\n",
    "  for i in range(count):\r\n",
    "    if scores[i] >= threshold:\r\n",
    "      result = {\r\n",
    "        'bounding_box': boxes[i],\r\n",
    "        'class_id': classes[i],\r\n",
    "        'score': scores[i]\r\n",
    "      }\r\n",
    "      results.append(result)\r\n",
    "  return results\r\n",
    "\r\n",
    "\r\n",
    "def run_odt_and_draw_results(image_path, interpreter, threshold=0.5):\r\n",
    "  \"\"\"Run object detection on the input image and draw the detection results\"\"\"\r\n",
    "  # Load the input shape required by the model\r\n",
    "  _, input_height, input_width, _ = interpreter.get_input_details()[0]['shape']\r\n",
    "\r\n",
    "  # Load the input image and preprocess it\r\n",
    "  preprocessed_image, original_image = preprocess_image(\r\n",
    "      image_path, \r\n",
    "      (input_height, input_width)\r\n",
    "    )\r\n",
    "\r\n",
    "  # Run object detection on the input image\r\n",
    "  results = detect_objects(interpreter, preprocessed_image, threshold=threshold)\r\n",
    "\r\n",
    "  # Plot the detection results on the input image\r\n",
    "  original_image_np = original_image.numpy().astype(np.uint8)\r\n",
    "  for obj in results:\r\n",
    "    # Convert the object bounding box from relative coordinates to absolute \r\n",
    "    # coordinates based on the original image resolution\r\n",
    "    ymin, xmin, ymax, xmax = obj['bounding_box']\r\n",
    "    xmin = int(xmin * original_image_np.shape[1])\r\n",
    "    xmax = int(xmax * original_image_np.shape[1])\r\n",
    "    ymin = int(ymin * original_image_np.shape[0])\r\n",
    "    ymax = int(ymax * original_image_np.shape[0])\r\n",
    "\r\n",
    "    # Find the class index of the current object\r\n",
    "    class_id = int(obj['class_id'])\r\n",
    "\r\n",
    "    # Draw the bounding box and label on the image\r\n",
    "    color = [int(c) for c in COLORS[class_id]]\r\n",
    "    cv2.rectangle(original_image_np, (xmin, ymin), (xmax, ymax), color, 2)\r\n",
    "    # Make adjustments to make the label visible for all objects\r\n",
    "    y = ymin - 15 if ymin - 15 > 15 else ymin + 15\r\n",
    "    label = \"{}: {:.0f}%\".format(classes[class_id], obj['score'] * 100)\r\n",
    "    cv2.putText(original_image_np, label, (xmin, y),\r\n",
    "        cv2.FONT_HERSHEY_SIMPLEX, 0.5, color, 2)\r\n",
    "\r\n",
    "  # Return the final image\r\n",
    "  original_uint8 = original_image_np.astype(np.uint8)\r\n",
    "  return original_uint8"
   ],
   "outputs": [],
   "metadata": {}
  },
  {
   "cell_type": "code",
   "execution_count": null,
   "source": [
    "INPUT_IMAGE_URL = \"gdrive/MyDrive/images/test/IMG_20210819_185514.jpg\"\r\n",
    "DETECTION_THRESHOLD = 0.5 \r\n",
    "\r\n",
    "# Load the TFLite model\r\n",
    "interpreter = tf.lite.Interpreter(model_path=model_path)\r\n",
    "interpreter.allocate_tensors()\r\n",
    "\r\n",
    "# Run inference and draw detection result on the local copy of the original file\r\n",
    "detection_result_image = run_odt_and_draw_results(\r\n",
    "    INPUT_IMAGE_URL, \r\n",
    "    interpreter, \r\n",
    "    threshold=DETECTION_THRESHOLD\r\n",
    ")\r\n",
    "\r\n",
    "# Show the detection result\r\n",
    "Image.fromarray(detection_result_image)"
   ],
   "outputs": [],
   "metadata": {}
  }
 ],
 "metadata": {
  "kernelspec": {
   "name": "python3",
   "display_name": "Python 3.8.11 64-bit ('tensorflow1': conda)"
  },
  "language_info": {
   "codemirror_mode": {
    "name": "ipython",
    "version": 3
   },
   "file_extension": ".py",
   "mimetype": "text/x-python",
   "name": "python",
   "nbconvert_exporter": "python",
   "pygments_lexer": "ipython3",
   "version": "3.8.11"
  },
  "interpreter": {
   "hash": "4789f1ae8fb21cd2e8cd3746baef93628f8cbbc9a742f32cc7e450def58ccd97"
  }
 },
 "nbformat": 4,
 "nbformat_minor": 2
}